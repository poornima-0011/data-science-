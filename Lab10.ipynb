{
 "cells": [
  {
   "cell_type": "code",
   "execution_count": 1,
   "id": "824f9f65",
   "metadata": {},
   "outputs": [
    {
     "name": "stderr",
     "output_type": "stream",
     "text": [
      "2023-10-02 23:35:03.155294: I tensorflow/core/util/port.cc:110] oneDNN custom operations are on. You may see slightly different numerical results due to floating-point round-off errors from different computation orders. To turn them off, set the environment variable `TF_ENABLE_ONEDNN_OPTS=0`.\n",
      "2023-10-02 23:35:05.165220: I tensorflow/core/platform/cpu_feature_guard.cc:182] This TensorFlow binary is optimized to use available CPU instructions in performance-critical operations.\n",
      "To enable the following instructions: AVX2 AVX512F AVX512_VNNI FMA, in other operations, rebuild TensorFlow with the appropriate compiler flags.\n"
     ]
    }
   ],
   "source": [
    "import numpy as np\n",
    "import keras\n",
    "from keras.datasets import mnist\n",
    "from keras import models\n",
    "from keras.layers import Dense, Input\n",
    "from keras.layers import Conv2D, MaxPooling2D, Dropout, Flatten\n",
    "from keras import backend as k"
   ]
  },
  {
   "cell_type": "code",
   "execution_count": 2,
   "id": "4bed7306",
   "metadata": {},
   "outputs": [
    {
     "name": "stdout",
     "output_type": "stream",
     "text": [
      "Downloading data from https://storage.googleapis.com/tensorflow/tf-keras-datasets/mnist.npz\n",
      "11490434/11490434 [==============================] - 30s 3us/step\n"
     ]
    }
   ],
   "source": [
    "(train_images, train_labels), (test_images, test_labels) = mnist.load_data()\n",
    "train_images = train_images.reshape((60000, 28, 28, 1))\n",
    "test_images = test_images.reshape((10000, 28, 28, 1))"
   ]
  },
  {
   "cell_type": "code",
   "execution_count": 3,
   "id": "837e40d8",
   "metadata": {},
   "outputs": [],
   "source": [
    "train_images = train_images.astype('float32') / 255\n",
    "test_images = test_images.astype('float32') / 255\n"
   ]
  },
  {
   "cell_type": "code",
   "execution_count": 4,
   "id": "778637ae",
   "metadata": {},
   "outputs": [],
   "source": [
    "train_labels = keras.utils.to_categorical(train_labels)\n",
    "test_labels = keras.utils.to_categorical(test_labels)\n"
   ]
  },
  {
   "cell_type": "code",
   "execution_count": 5,
   "id": "905f8c2c",
   "metadata": {},
   "outputs": [],
   "source": [
    "model = models.Sequential()\n",
    "model.add(Conv2D(32, (3, 3), activation='relu', input_shape=(28, 28, 1)))\n",
    "model.add(MaxPooling2D((2, 2)))\n",
    "model.add(Conv2D(48, (3, 3), activation='relu'))\n",
    "model.add(MaxPooling2D((2, 2)))\n",
    "model.add(Dropout(0.5))\n",
    "model.add(Flatten())\n",
    "model.add(Dense(500, activation='relu'))\n",
    "model.add(Dense(10, activation='softmax'))"
   ]
  },
  {
   "cell_type": "code",
   "execution_count": 8,
   "id": "ae13656e",
   "metadata": {},
   "outputs": [],
   "source": [
    "model.compile(optimizer='adam',\n",
    "              loss='categorical_crossentropy',\n",
    "              metrics=['accuracy'])"
   ]
  },
  {
   "cell_type": "code",
   "execution_count": 7,
   "id": "b0c85b41",
   "metadata": {},
   "outputs": [
    {
     "name": "stdout",
     "output_type": "stream",
     "text": [
      "Epoch 1/10\n",
      "422/422 - 26s - loss: 0.2361 - accuracy: 0.9264 - val_loss: 0.0579 - val_accuracy: 0.9832 - 26s/epoch - 62ms/step\n",
      "Epoch 2/10\n",
      "422/422 - 26s - loss: 0.0834 - accuracy: 0.9727 - val_loss: 0.0413 - val_accuracy: 0.9890 - 26s/epoch - 62ms/step\n",
      "Epoch 3/10\n",
      "422/422 - 26s - loss: 0.0603 - accuracy: 0.9811 - val_loss: 0.0340 - val_accuracy: 0.9895 - 26s/epoch - 62ms/step\n",
      "Epoch 4/10\n",
      "422/422 - 29s - loss: 0.0492 - accuracy: 0.9839 - val_loss: 0.0270 - val_accuracy: 0.9918 - 29s/epoch - 69ms/step\n",
      "Epoch 5/10\n",
      "422/422 - 24s - loss: 0.0418 - accuracy: 0.9861 - val_loss: 0.0295 - val_accuracy: 0.9920 - 24s/epoch - 56ms/step\n",
      "Epoch 6/10\n",
      "422/422 - 26s - loss: 0.0354 - accuracy: 0.9882 - val_loss: 0.0269 - val_accuracy: 0.9927 - 26s/epoch - 61ms/step\n",
      "Epoch 7/10\n",
      "422/422 - 22s - loss: 0.0309 - accuracy: 0.9898 - val_loss: 0.0227 - val_accuracy: 0.9937 - 22s/epoch - 53ms/step\n",
      "Epoch 8/10\n",
      "422/422 - 24s - loss: 0.0286 - accuracy: 0.9908 - val_loss: 0.0267 - val_accuracy: 0.9928 - 24s/epoch - 58ms/step\n",
      "Epoch 9/10\n",
      "422/422 - 25s - loss: 0.0254 - accuracy: 0.9916 - val_loss: 0.0258 - val_accuracy: 0.9935 - 25s/epoch - 59ms/step\n",
      "Epoch 10/10\n",
      "422/422 - 27s - loss: 0.0224 - accuracy: 0.9929 - val_loss: 0.0242 - val_accuracy: 0.9932 - 27s/epoch - 64ms/step\n"
     ]
    },
    {
     "data": {
      "text/plain": [
       "<keras.src.callbacks.History at 0x7f3acd6ad3c0>"
      ]
     },
     "execution_count": 7,
     "metadata": {},
     "output_type": "execute_result"
    }
   ],
   "source": [
    "model.fit(train_images, train_labels, epochs=10, batch_size=128,verbose=2,validation_split=0.1)"
   ]
  },
  {
   "cell_type": "code",
   "execution_count": 9,
   "id": "c5040ff0",
   "metadata": {},
   "outputs": [
    {
     "name": "stdout",
     "output_type": "stream",
     "text": [
      "313/313 [==============================] - 4s 11ms/step - loss: 0.0252 - accuracy: 0.9918\n",
      "Test accuracy: 0.9918000102043152\n"
     ]
    }
   ],
   "source": [
    "test_loss, test_acc = model.evaluate(test_images, test_labels)\n",
    "print('Test accuracy:', test_acc)"
   ]
  },
  {
   "cell_type": "code",
   "execution_count": 19,
   "id": "94a05d65",
   "metadata": {},
   "outputs": [
    {
     "name": "stdout",
     "output_type": "stream",
     "text": [
      "1/1 [==============================] - 0s 62ms/step\n",
      "Predicted Label: 6\n",
      "Actual Label: 6\n"
     ]
    },
    {
     "data": {
      "image/png": "[encoded data removed]",
      "text/plain": [
       "<Figure size 640x480 with 1 Axes>"
      ]
     },
     "metadata": {},
     "output_type": "display_data"
    }
   ],
   "source": [
    "import numpy as np\n",
    "image_index=22\n",
    "image = np.reshape(test_images[image_index], (1, 28, 28, 1))\n",
    "\n",
    "predictions = model.predict(image)\n",
    "predicted_label = np.argmax(predictions)\n",
    "\n",
    "actual_label = np.argmax(test_labels[image_index])\n",
    "\n",
    "print(f\"Predicted Label: {predicted_label}\")\n",
    "print(f\"Actual Label: {actual_label}\")\n",
    "\n",
    "import matplotlib.pyplot as plt\n",
    "\n",
    "plt.imshow(np.squeeze(test_images[image_index]), cmap='gray')\n",
    "plt.show()\n"
   ]
  },
  {
   "cell_type": "code",
   "execution_count": null,
   "id": "074d9236-80c4-4ac7-8bf9-2521d3f4b05e",
   "metadata": {},
   "outputs": [],
   "source": []
  }
 ],
 "metadata": {
  "kernelspec": {
   "display_name": "Python 3 (ipykernel)",
   "language": "python",
   "name": "python3"
  },
  "language_info": {
   "codemirror_mode": {
    "name": "ipython",
    "version": 3
   },
   "file_extension": ".py",
   "mimetype": "text/x-python",
   "name": "python",
   "nbconvert_exporter": "python",
   "pygments_lexer": "ipython3",
   "version": "3.10.7"
  }
 },
 "nbformat": 4,
 "nbformat_minor": 5
}
